{
 "cells": [
  {
   "cell_type": "code",
   "execution_count": 2,
   "id": "652df9b8",
   "metadata": {},
   "outputs": [],
   "source": [
    "import numpy as np\n",
    "import matplotlib.pyplot as plt\n",
    "\n",
    "from pyspark.sql import SparkSession \n",
    "import pyspark.sql.functions as F\n",
    "\n",
    "spark = SparkSession.builder.appName('flights14').getOrCreate()\n",
    "\n",
    "plt.rcParams.update(**{'figure.dpi':150})"
   ]
  },
  {
   "cell_type": "code",
   "execution_count": 4,
   "id": "b0ad1c4d",
   "metadata": {},
   "outputs": [
    {
     "name": "stderr",
     "output_type": "stream",
     "text": [
      "\r",
      "[Stage 1:===================>                                       (1 + 2) / 3]\r",
      "\r",
      "                                                                                \r"
     ]
    },
    {
     "name": "stdout",
     "output_type": "stream",
     "text": [
      "+----+-----+---+---------+---------+-------+------+----+--------+--------+----+\n",
      "|year|month|day|dep_delay|arr_delay|carrier|origin|dest|air_time|distance|hour|\n",
      "+----+-----+---+---------+---------+-------+------+----+--------+--------+----+\n",
      "|2014|    1|  1|       14|       13|     AA|   JFK| LAX|     359|    2475|   9|\n",
      "|2014|    1|  1|       -3|       13|     AA|   JFK| LAX|     363|    2475|  11|\n",
      "|2014|    1|  1|        2|        9|     AA|   JFK| LAX|     351|    2475|  19|\n",
      "|2014|    1|  1|       -8|      -26|     AA|   LGA| PBI|     157|    1035|   7|\n",
      "|2014|    1|  1|        2|        1|     AA|   JFK| LAX|     350|    2475|  13|\n",
      "+----+-----+---+---------+---------+-------+------+----+--------+--------+----+\n",
      "only showing top 5 rows\n",
      "\n"
     ]
    }
   ],
   "source": [
    "df = spark.read.csv('flights14.csv',inferSchema=True,header=True)\n",
    "df.show(5)"
   ]
  },
  {
   "cell_type": "markdown",
   "id": "241dd361",
   "metadata": {},
   "source": [
    "## Preliminary checks"
   ]
  },
  {
   "cell_type": "code",
   "execution_count": 5,
   "id": "da118c2c",
   "metadata": {},
   "outputs": [
    {
     "data": {
      "text/plain": [
       "253316"
      ]
     },
     "execution_count": 5,
     "metadata": {},
     "output_type": "execute_result"
    }
   ],
   "source": [
    "# number of observations\n",
    "df.count()"
   ]
  },
  {
   "cell_type": "code",
   "execution_count": 6,
   "id": "1669fcca",
   "metadata": {},
   "outputs": [
    {
     "name": "stdout",
     "output_type": "stream",
     "text": [
      "root\n",
      " |-- year: integer (nullable = true)\n",
      " |-- month: integer (nullable = true)\n",
      " |-- day: integer (nullable = true)\n",
      " |-- dep_delay: integer (nullable = true)\n",
      " |-- arr_delay: integer (nullable = true)\n",
      " |-- carrier: string (nullable = true)\n",
      " |-- origin: string (nullable = true)\n",
      " |-- dest: string (nullable = true)\n",
      " |-- air_time: integer (nullable = true)\n",
      " |-- distance: integer (nullable = true)\n",
      " |-- hour: integer (nullable = true)\n",
      "\n"
     ]
    }
   ],
   "source": [
    "# check data types\n",
    "df.printSchema()"
   ]
  },
  {
   "cell_type": "code",
   "execution_count": 8,
   "id": "1b964a0f",
   "metadata": {},
   "outputs": [
    {
     "name": "stderr",
     "output_type": "stream",
     "text": [
      "                                                                                \r"
     ]
    },
    {
     "name": "stdout",
     "output_type": "stream",
     "text": [
      "+---------+-----------+\n",
      "|   Column|num_missing|\n",
      "+---------+-----------+\n",
      "|     year|          0|\n",
      "|    month|          0|\n",
      "|      day|          0|\n",
      "|dep_delay|          0|\n",
      "|arr_delay|          0|\n",
      "|  carrier|          0|\n",
      "|   origin|          0|\n",
      "|     dest|          0|\n",
      "| air_time|          0|\n",
      "| distance|          0|\n",
      "|     hour|          0|\n",
      "+---------+-----------+\n",
      "\n"
     ]
    }
   ],
   "source": [
    "# check for missing values\n",
    "\n",
    "def nullValues(df):\n",
    "    out = []\n",
    "    \n",
    "    for column in df.columns:\n",
    "        n_missing = df.where(F.col(column).isNull()).count()\n",
    "        out.append((column,n_missing))\n",
    "    \n",
    "    return out\n",
    "\n",
    "null_list = nullValues(df)\n",
    "spark.createDataFrame(null_list,schema=['Column','num_missing']).show()"
   ]
  },
  {
   "cell_type": "markdown",
   "id": "9c6aeb7e",
   "metadata": {},
   "source": [
    "## Task 1\n",
    "\n",
    "Show all origin-destination pairs with distance > 2500 miles."
   ]
  },
  {
   "cell_type": "code",
   "execution_count": 9,
   "id": "aba4164a",
   "metadata": {},
   "outputs": [
    {
     "name": "stdout",
     "output_type": "stream",
     "text": [
      "+------+----+--------+\n",
      "|origin|dest|distance|\n",
      "+------+----+--------+\n",
      "|   JFK| SFO|    2586|\n",
      "|   JFK| OAK|    2576|\n",
      "|   EWR| HNL|    4962|\n",
      "|   EWR| HNL|    4963|\n",
      "|   JFK| HNL|    4983|\n",
      "|   EWR| SFO|    2565|\n",
      "|   JFK| SJC|    2569|\n",
      "|   JFK| SMF|    2521|\n",
      "|   EWR| ANC|    3370|\n",
      "+------+----+--------+\n",
      "\n"
     ]
    }
   ],
   "source": [
    "(\n",
    "    df.select('origin','dest','distance')\n",
    "    .filter(\"distance > 2500\")\n",
    "    .dropDuplicates()\n",
    ").show()"
   ]
  },
  {
   "cell_type": "markdown",
   "id": "cd5c89dc",
   "metadata": {},
   "source": [
    "## Task 2\n",
    "\n",
    "(a) Count the number of flights for each carrier\n",
    "\n",
    "(b) Repeat (a) but seperate the number from each origin airport"
   ]
  },
  {
   "cell_type": "code",
   "execution_count": 10,
   "id": "41ce5020",
   "metadata": {},
   "outputs": [
    {
     "name": "stdout",
     "output_type": "stream",
     "text": [
      "+-------+-----+\n",
      "|carrier|count|\n",
      "+-------+-----+\n",
      "|     UA|46267|\n",
      "|     AA|26302|\n",
      "|     EV|39819|\n",
      "|     B6|44479|\n",
      "|     DL|41683|\n",
      "|     OO|  200|\n",
      "|     F9|  473|\n",
      "|     US|16750|\n",
      "|     MQ|18559|\n",
      "|     HA|  260|\n",
      "|     AS|  574|\n",
      "|     FL| 1251|\n",
      "|     VX| 4797|\n",
      "|     WN|11902|\n",
      "+-------+-----+\n",
      "\n"
     ]
    }
   ],
   "source": [
    "## number of flights for each carrier\n",
    "df.groupBy('carrier').count().show()"
   ]
  },
  {
   "cell_type": "code",
   "execution_count": 11,
   "id": "cddf530e",
   "metadata": {},
   "outputs": [
    {
     "name": "stdout",
     "output_type": "stream",
     "text": [
      "+-------+-----+-----+-----+\n",
      "|carrier|  EWR|  JFK|  LGA|\n",
      "+-------+-----+-----+-----+\n",
      "|     UA|36124| 3924| 6219|\n",
      "|     AA| 2649|11923|11730|\n",
      "|     EV|28328| 1069|10422|\n",
      "|     B6| 5473|34220| 4786|\n",
      "|     DL| 4153|18860|18670|\n",
      "|     OO|    1| null|  199|\n",
      "|     F9| null| null|  473|\n",
      "|     US| 3480| 2645|10625|\n",
      "|     MQ|  167| 5444|12948|\n",
      "|     HA| null|  260| null|\n",
      "|     AS|  574| null| null|\n",
      "|     FL| null| null| 1251|\n",
      "|     VX| 1644| 3138|   15|\n",
      "|     WN| 4807| null| 7095|\n",
      "+-------+-----+-----+-----+\n",
      "\n"
     ]
    }
   ],
   "source": [
    "## number of flights for each carrier from each origin airpot\n",
    "(\n",
    "    df\n",
    "    .groupBy('carrier')\n",
    "    .pivot('origin')\n",
    "    .count()\n",
    ").show()\n"
   ]
  },
  {
   "cell_type": "markdown",
   "id": "c2f23555",
   "metadata": {},
   "source": [
    "## Task 3\n",
    "\n",
    "\n",
    "(a) Calculate the statistics of `dep_delay` of flights from each airport\n",
    "\n",
    "(b) Repeat (a) but group by the carrier as well"
   ]
  },
  {
   "cell_type": "code",
   "execution_count": null,
   "id": "115fd941",
   "metadata": {},
   "outputs": [],
   "source": []
  },
  {
   "cell_type": "code",
   "execution_count": 28,
   "id": "a6f9d608",
   "metadata": {},
   "outputs": [
    {
     "name": "stdout",
     "output_type": "stream",
     "text": [
      "+------+-----+------------------+----+---+---+---+----+\n",
      "|origin|count|              mean| min|25%|50%|75%| max|\n",
      "+------+-----+------------------+----+---+---+---+----+\n",
      "|   LGA|84433|10.605000414529863|-112| -6| -6| -6| 973|\n",
      "|   EWR|87400|15.212482837528604| -27| -4| -4| -4|1498|\n",
      "|   JFK|81483|11.446166685075415| -34| -5| -5| -5|1241|\n",
      "+------+-----+------------------+----+---+---+---+----+\n",
      "\n"
     ]
    }
   ],
   "source": [
    "# by airport\n",
    "(\n",
    "    df\n",
    "    .groupBy('origin')\n",
    "    .agg(\n",
    "        F.count(\"*\").alias(\"count\"),\n",
    "        F.mean('dep_delay').alias('mean'),\n",
    "        F.min('dep_delay').alias('min'),\n",
    "        F.percentile_approx('dep_delay',0.25).alias('25%'),\n",
    "        F.percentile_approx('dep_delay',0.25).alias('50%'),\n",
    "        F.percentile_approx('dep_delay',0.25).alias('75%'),\n",
    "        F.max('dep_delay').alias('max')\n",
    "    )\n",
    ").show()"
   ]
  },
  {
   "cell_type": "code",
   "execution_count": 32,
   "id": "52981e84",
   "metadata": {},
   "outputs": [
    {
     "name": "stdout",
     "output_type": "stream",
     "text": [
      "+-------+------+-----+------------------+----+---+---+---+----+\n",
      "|carrier|origin|count|              mean| min|25%|50%|75%| max|\n",
      "+-------+------+-----+------------------+----+---+---+---+----+\n",
      "|     AA|   EWR| 2649|13.343525858814647| -27| -6| -6| -6|1498|\n",
      "|     AA|   JFK|11923| 9.654952612597501| -16| -5| -5| -5|1241|\n",
      "|     AA|   LGA|11730| 6.255839727195226| -20| -7| -7| -7| 971|\n",
      "|     AS|   EWR|  574| 8.831010452961673| -21| -8| -8| -8| 341|\n",
      "|     B6|   JFK|34220|12.291613091759205| -18| -4| -4| -4| 594|\n",
      "|     B6|   LGA| 4786| 11.81216046803176| -25| -7| -7| -7| 478|\n",
      "|     B6|   EWR| 5473|10.267860405627626| -24| -8| -8| -8| 472|\n",
      "|     DL|   JFK|18860|12.454135737009544| -34| -4| -4| -4|1014|\n",
      "|     DL|   EWR| 4153|14.961714423308452| -16| -3| -3| -3|1087|\n",
      "|     DL|   LGA|18670|11.350830208891269|-112| -5| -5| -5| 973|\n",
      "|     EV|   LGA|10422| 18.32767223181731| -27| -6| -6| -6| 665|\n",
      "|     EV|   JFK| 1069|19.818521983161833| -19| -6| -6| -6| 435|\n",
      "|     EV|   EWR|28328|17.194154193730583| -23| -5| -5| -5| 554|\n",
      "|     F9|   LGA|  473|24.712473572938688| -21| -3| -3| -3| 417|\n",
      "|     FL|   LGA| 1251|20.596322941646683| -21| -4| -4| -4| 632|\n",
      "|     HA|   JFK|  260| 8.488461538461538| -17| -7| -7| -7| 922|\n",
      "|     MQ|   EWR|  167|16.377245508982035| -11| -6| -6| -6| 248|\n",
      "|     MQ|   JFK| 5444| 9.234019103600295| -20| -6| -6| -6| 354|\n",
      "|     MQ|   LGA|12948| 7.458140253320976| -23| -8| -8| -8| 354|\n",
      "|     OO|   LGA|  199|12.592964824120603| -14| -4| -4| -4| 414|\n",
      "|     OO|   EWR|    1|               9.0|   9|  9|  9|  9|   9|\n",
      "|     UA|   EWR|36124|15.124515557524084| -19| -3| -3| -3| 618|\n",
      "|     UA|   JFK| 3924| 8.595565749235474| -17| -5| -5| -5| 408|\n",
      "|     UA|   LGA| 6219|13.080881170606206| -19| -4| -4| -4| 513|\n",
      "|     US|   LGA|10625|1.3633882352941176| -19| -7| -7| -7| 407|\n",
      "|     US|   EWR| 3480| 5.703735632183908| -16| -6| -6| -6| 449|\n",
      "|     US|   JFK| 2645|  9.28468809073724| -14| -5| -5| -5| 400|\n",
      "|     VX|   EWR| 1644|12.024939172749392| -18| -6| -6| -6| 389|\n",
      "|     VX|   JFK| 3138| 9.591459528362014| -16| -4| -4| -4| 430|\n",
      "|     VX|   LGA|   15|-6.266666666666667| -13| -9| -9| -9|  -2|\n",
      "|     WN|   EWR| 4807| 19.76846265862284| -13| -3| -3| -3| 543|\n",
      "|     WN|   LGA| 7095| 18.36448202959831| -13| -3| -3| -3| 570|\n",
      "+-------+------+-----+------------------+----+---+---+---+----+\n",
      "\n"
     ]
    }
   ],
   "source": [
    "(\n",
    "    df\n",
    "    .groupBy('carrier','origin')\n",
    "    .agg(\n",
    "        F.count(\"*\").alias(\"count\"),\n",
    "        F.mean('dep_delay').alias('mean'),\n",
    "        F.min('dep_delay').alias('min'),\n",
    "        F.percentile_approx('dep_delay',0.25).alias('25%'),\n",
    "        F.percentile_approx('dep_delay',0.25).alias('50%'),\n",
    "        F.percentile_approx('dep_delay',0.25).alias('75%'),\n",
    "        F.max('dep_delay').alias('max')\n",
    "    )\n",
    "    .sort('carrier')\n",
    ").show(42)"
   ]
  },
  {
   "cell_type": "markdown",
   "id": "d6c45440",
   "metadata": {},
   "source": [
    "## Task 4\n",
    "\n",
    "Randomly sample 5 observations for each origin airport\n",
    "\n",
    "**Note**: This is the best I could come up with."
   ]
  },
  {
   "cell_type": "code",
   "execution_count": 33,
   "id": "7862ec68",
   "metadata": {},
   "outputs": [],
   "source": [
    "from pyspark.sql import Window"
   ]
  },
  {
   "cell_type": "code",
   "execution_count": 35,
   "id": "c53e93c1",
   "metadata": {},
   "outputs": [
    {
     "name": "stderr",
     "output_type": "stream",
     "text": [
      "                                                                                \r"
     ]
    },
    {
     "name": "stdout",
     "output_type": "stream",
     "text": [
      "+----+-----+---+---------+---------+-------+------+----+--------+--------+----+\n",
      "|year|month|day|dep_delay|arr_delay|carrier|origin|dest|air_time|distance|hour|\n",
      "+----+-----+---+---------+---------+-------+------+----+--------+--------+----+\n",
      "|2014|    3| 20|       -5|        2|     AA|   LGA| DFW|     213|    1389|   5|\n",
      "|2014|    7|  3|      195|      193|     DL|   LGA| MIA|     159|    1096|  22|\n",
      "|2014|    9|  5|       -9|        1|     US|   LGA| DCA|      40|     214|   5|\n",
      "|2014|    7|  9|       24|       25|     MQ|   LGA| SDF|     112|     659|  15|\n",
      "|2014|    9|  1|       -5|      -17|     DL|   LGA| MSP|     135|    1020|   8|\n",
      "|2014|    8| 11|       51|       43|     UA|   EWR| DFW|     189|    1372|  14|\n",
      "|2014|    9| 12|        3|        9|     US|   EWR| MIA|     157|    1085|  19|\n",
      "|2014|   10|  8|        2|       -3|     EV|   EWR| CLT|      86|     529|  21|\n",
      "|2014|    3|  5|       -3|       -3|     UA|   EWR| SFO|     364|    2565|  20|\n",
      "|2014|    4| 18|       -4|      -20|     UA|   EWR| BOS|      35|     200|  20|\n",
      "|2014|    7|  6|       -7|      -12|     AA|   JFK| LAS|     281|    2248|   7|\n",
      "|2014|    6| 23|       -4|        1|     AA|   JFK| MIA|     143|    1089|   6|\n",
      "|2014|    5| 13|       -5|       -1|     MQ|   JFK| RDU|      64|     427|  19|\n",
      "|2014|    1| 30|       27|       20|     DL|   JFK| LAX|     361|    2475|  18|\n",
      "|2014|    7| 15|       -2|      -13|     DL|   JFK| MCO|     123|     944|   8|\n",
      "+----+-----+---+---------+---------+-------+------+----+--------+--------+----+\n",
      "\n"
     ]
    }
   ],
   "source": [
    "window_random = Window.partitionBy(F.col('origin')).orderBy(F.rand())\n",
    "df.withColumn('rank', F.rank().over(window_random)).filter(F.col('rank') <= 5).drop('rank').show()"
   ]
  },
  {
   "cell_type": "markdown",
   "id": "a18e8277",
   "metadata": {},
   "source": [
    "## Task 5\n",
    "\n",
    "Find the top 5 destination airports."
   ]
  },
  {
   "cell_type": "code",
   "execution_count": 36,
   "id": "14a31198",
   "metadata": {},
   "outputs": [
    {
     "name": "stdout",
     "output_type": "stream",
     "text": [
      "+----+-----+\n",
      "|dest|count|\n",
      "+----+-----+\n",
      "| LAX|14434|\n",
      "| ATL|12808|\n",
      "| SFO|11907|\n",
      "| MCO|11709|\n",
      "| BOS|11609|\n",
      "+----+-----+\n",
      "only showing top 5 rows\n",
      "\n"
     ]
    }
   ],
   "source": [
    "df.groupby('dest').count().orderBy(F.col('count').desc()).show(5)"
   ]
  },
  {
   "cell_type": "markdown",
   "id": "cce8e8e2",
   "metadata": {},
   "source": [
    "## Task 6\n",
    "\n",
    "Find the top 3 origin-dest pairs with maximum number of flights between them"
   ]
  },
  {
   "cell_type": "code",
   "execution_count": 37,
   "id": "fc501e45",
   "metadata": {},
   "outputs": [
    {
     "name": "stdout",
     "output_type": "stream",
     "text": [
      "+------+----+-----+\n",
      "|origin|dest|count|\n",
      "+------+----+-----+\n",
      "|   JFK| LAX|10208|\n",
      "|   JFK| SFO| 7368|\n",
      "|   LGA| ORD| 7052|\n",
      "+------+----+-----+\n",
      "only showing top 3 rows\n",
      "\n"
     ]
    }
   ],
   "source": [
    "# second approach - group by\n",
    "(\n",
    "    df\n",
    "    .groupBy('origin','dest')\n",
    "    .count()\n",
    "    .orderBy(F.col('count').desc())\n",
    ").show(3)"
   ]
  },
  {
   "cell_type": "markdown",
   "id": "5705b47f",
   "metadata": {},
   "source": [
    "## Task 7\n",
    "\n",
    "For each origin airport, plot the total number of departing flights each day in the month of June."
   ]
  },
  {
   "cell_type": "code",
   "execution_count": 41,
   "id": "497362e6",
   "metadata": {},
   "outputs": [
    {
     "data": {
      "text/html": [
       "<div>\n",
       "<style scoped>\n",
       "    .dataframe tbody tr th:only-of-type {\n",
       "        vertical-align: middle;\n",
       "    }\n",
       "\n",
       "    .dataframe tbody tr th {\n",
       "        vertical-align: top;\n",
       "    }\n",
       "\n",
       "    .dataframe thead th {\n",
       "        text-align: right;\n",
       "    }\n",
       "</style>\n",
       "<table border=\"1\" class=\"dataframe\">\n",
       "  <thead>\n",
       "    <tr style=\"text-align: right;\">\n",
       "      <th></th>\n",
       "      <th>origin</th>\n",
       "      <th>day</th>\n",
       "      <th>count</th>\n",
       "    </tr>\n",
       "  </thead>\n",
       "  <tbody>\n",
       "    <tr>\n",
       "      <th>0</th>\n",
       "      <td>EWR</td>\n",
       "      <td>1</td>\n",
       "      <td>276</td>\n",
       "    </tr>\n",
       "    <tr>\n",
       "      <th>1</th>\n",
       "      <td>EWR</td>\n",
       "      <td>2</td>\n",
       "      <td>314</td>\n",
       "    </tr>\n",
       "    <tr>\n",
       "      <th>2</th>\n",
       "      <td>EWR</td>\n",
       "      <td>3</td>\n",
       "      <td>291</td>\n",
       "    </tr>\n",
       "    <tr>\n",
       "      <th>3</th>\n",
       "      <td>EWR</td>\n",
       "      <td>4</td>\n",
       "      <td>309</td>\n",
       "    </tr>\n",
       "    <tr>\n",
       "      <th>4</th>\n",
       "      <td>EWR</td>\n",
       "      <td>5</td>\n",
       "      <td>331</td>\n",
       "    </tr>\n",
       "    <tr>\n",
       "      <th>...</th>\n",
       "      <td>...</td>\n",
       "      <td>...</td>\n",
       "      <td>...</td>\n",
       "    </tr>\n",
       "    <tr>\n",
       "      <th>85</th>\n",
       "      <td>LGA</td>\n",
       "      <td>26</td>\n",
       "      <td>325</td>\n",
       "    </tr>\n",
       "    <tr>\n",
       "      <th>86</th>\n",
       "      <td>LGA</td>\n",
       "      <td>27</td>\n",
       "      <td>324</td>\n",
       "    </tr>\n",
       "    <tr>\n",
       "      <th>87</th>\n",
       "      <td>LGA</td>\n",
       "      <td>28</td>\n",
       "      <td>208</td>\n",
       "    </tr>\n",
       "    <tr>\n",
       "      <th>88</th>\n",
       "      <td>LGA</td>\n",
       "      <td>29</td>\n",
       "      <td>266</td>\n",
       "    </tr>\n",
       "    <tr>\n",
       "      <th>89</th>\n",
       "      <td>LGA</td>\n",
       "      <td>30</td>\n",
       "      <td>312</td>\n",
       "    </tr>\n",
       "  </tbody>\n",
       "</table>\n",
       "<p>90 rows × 3 columns</p>\n",
       "</div>"
      ],
      "text/plain": [
       "   origin  day  count\n",
       "0     EWR    1    276\n",
       "1     EWR    2    314\n",
       "2     EWR    3    291\n",
       "3     EWR    4    309\n",
       "4     EWR    5    331\n",
       "..    ...  ...    ...\n",
       "85    LGA   26    325\n",
       "86    LGA   27    324\n",
       "87    LGA   28    208\n",
       "88    LGA   29    266\n",
       "89    LGA   30    312\n",
       "\n",
       "[90 rows x 3 columns]"
      ]
     },
     "execution_count": 41,
     "metadata": {},
     "output_type": "execute_result"
    }
   ],
   "source": [
    "new_df = (\n",
    "    df\n",
    "    .filter('month==6')\n",
    "    .groupBy('origin','day')\n",
    "    .count()\n",
    "    .sort('origin','day')\n",
    ").toPandas()\n",
    "new_df"
   ]
  },
  {
   "cell_type": "code",
   "execution_count": 42,
   "id": "1262027a",
   "metadata": {},
   "outputs": [
    {
     "data": {
      "image/png": "[encoded data removed]",
      "text/plain": [
       "<Figure size 600x900 with 3 Axes>"
      ]
     },
     "metadata": {},
     "output_type": "display_data"
    }
   ],
   "source": [
    "grouped = new_df.groupby('origin')\n",
    "\n",
    "n_cols= 1\n",
    "n_rows = len(grouped)\n",
    "\n",
    "fig, axs = plt.subplots(n_rows, n_cols, figsize=(4*n_cols,2*n_rows), sharex=True)\n",
    "\n",
    "for (key, ax) in zip(grouped.groups.keys(), axs.flatten()):\n",
    "    grouped.get_group(key).plot(ax=ax,x='day',y='count',legend=False)\n",
    "    _ = ax.set_title(key)\n",
    "    \n",
    "fig.tight_layout()"
   ]
  },
  {
   "cell_type": "markdown",
   "id": "73a0db3f",
   "metadata": {},
   "source": [
    "## Task 8\n",
    "\n",
    "Find the number of unique routes served by each carrier"
   ]
  },
  {
   "cell_type": "code",
   "execution_count": 43,
   "id": "764f150c",
   "metadata": {},
   "outputs": [
    {
     "name": "stdout",
     "output_type": "stream",
     "text": [
      "+-------+---------------+\n",
      "|carrier|num_uniq_routes|\n",
      "+-------+---------------+\n",
      "|     UA|             48|\n",
      "|     AA|             24|\n",
      "|     EV|            103|\n",
      "|     B6|             56|\n",
      "|     DL|             56|\n",
      "|     OO|              3|\n",
      "|     F9|              2|\n",
      "|     US|             12|\n",
      "|     MQ|             32|\n",
      "|     HA|              1|\n",
      "|     AS|              1|\n",
      "|     FL|              2|\n",
      "|     VX|              7|\n",
      "|     WN|             16|\n",
      "+-------+---------------+\n",
      "\n"
     ]
    }
   ],
   "source": [
    "(\n",
    "    df\n",
    "    .select('carrier',F.concat_ws('_',F.col('origin'),F.col('dest')).alias('orig_dest'))\n",
    "    .groupBy('carrier')\n",
    "    .agg(F.countDistinct('orig_dest').alias('num_uniq_routes'))\n",
    ").show()"
   ]
  },
  {
   "cell_type": "markdown",
   "id": "d94f67f8",
   "metadata": {},
   "source": [
    "## Task 9\n",
    "\n",
    "Rate the carriers according to \n",
    "1. total distance flown\n",
    "2. average distances flown per flight"
   ]
  },
  {
   "cell_type": "code",
   "execution_count": 45,
   "id": "5aeb4e22",
   "metadata": {},
   "outputs": [
    {
     "name": "stdout",
     "output_type": "stream",
     "text": [
      "+-------+--------+------------------+\n",
      "|carrier|   Total|           Average|\n",
      "+-------+--------+------------------+\n",
      "|     UA|72155634|1559.5485767393607|\n",
      "|     DL|52575904|1261.3272557157595|\n",
      "|     B6|47554862|1069.1531284426358|\n",
      "|     AA|36407712|1384.2183864344918|\n",
      "|     EV|22510199| 565.3130163992064|\n",
      "|     VX|11980325|2497.4619553887846|\n",
      "|     WN|11715150| 984.3009578222147|\n",
      "|     MQ|10023882| 540.1089498356592|\n",
      "|     US| 9178227| 547.9538507462687|\n",
      "|     AS| 1378748|            2402.0|\n",
      "|     HA| 1295580|            4983.0|\n",
      "|     FL|  828067| 661.9240607513989|\n",
      "|     F9|  759054|1604.7653276955602|\n",
      "|     OO|  143735|           718.675|\n",
      "+-------+--------+------------------+\n",
      "\n"
     ]
    }
   ],
   "source": [
    "res = (\n",
    "    df.\n",
    "    select('carrier','distance')\n",
    "    .groupBy('carrier')\n",
    "    .agg(\n",
    "        F.sum('distance').alias('Total'),\n",
    "        F.mean('distance').alias('Average')\n",
    "    )\n",
    ")\n",
    "\n",
    "# sorted by total distance\n",
    "res.orderBy(F.col('Total').desc()).show()"
   ]
  },
  {
   "cell_type": "code",
   "execution_count": 46,
   "id": "67faf115",
   "metadata": {},
   "outputs": [
    {
     "name": "stdout",
     "output_type": "stream",
     "text": [
      "+-------+--------+------------------+\n",
      "|carrier|   Total|           Average|\n",
      "+-------+--------+------------------+\n",
      "|     HA| 1295580|            4983.0|\n",
      "|     VX|11980325|2497.4619553887846|\n",
      "|     AS| 1378748|            2402.0|\n",
      "|     F9|  759054|1604.7653276955602|\n",
      "|     UA|72155634|1559.5485767393607|\n",
      "|     AA|36407712|1384.2183864344918|\n",
      "|     DL|52575904|1261.3272557157595|\n",
      "|     B6|47554862|1069.1531284426358|\n",
      "|     WN|11715150| 984.3009578222147|\n",
      "|     OO|  143735|           718.675|\n",
      "|     FL|  828067| 661.9240607513989|\n",
      "|     EV|22510199| 565.3130163992064|\n",
      "|     US| 9178227| 547.9538507462687|\n",
      "|     MQ|10023882| 540.1089498356592|\n",
      "+-------+--------+------------------+\n",
      "\n"
     ]
    }
   ],
   "source": [
    "# sorted by average distance\n",
    "res.orderBy(F.col('Average').desc()).show()"
   ]
  },
  {
   "cell_type": "markdown",
   "id": "e3d72c2b",
   "metadata": {},
   "source": [
    "## Task 10:\n",
    "\n",
    "Among flights that had delayed departures, find the percentage of flights that arrived early or on time at the destination (`arr_delay <= 0`)"
   ]
  },
  {
   "cell_type": "code",
   "execution_count": 50,
   "id": "1ed79307",
   "metadata": {},
   "outputs": [
    {
     "data": {
      "text/plain": [
       "26.745718050065875"
      ]
     },
     "execution_count": 50,
     "metadata": {},
     "output_type": "execute_result"
    }
   ],
   "source": [
    "(\n",
    "    df\n",
    "    .filter('dep_delay>0')\n",
    "    .withColumn('ontime',F.when(F.col('arr_delay')<=0,1).otherwise(0))\n",
    "    .agg(F.mean('ontime'))\n",
    ").collect()[0][0]*100"
   ]
  },
  {
   "cell_type": "code",
   "execution_count": null,
   "id": "f1a3e33c",
   "metadata": {},
   "outputs": [],
   "source": []
  }
 ],
 "metadata": {
  "kernelspec": {
   "display_name": "pyspark",
   "language": "python",
   "name": "pyspark"
  },
  "language_info": {
   "codemirror_mode": {
    "name": "ipython",
    "version": 3
   },
   "file_extension": ".py",
   "mimetype": "text/x-python",
   "name": "python",
   "nbconvert_exporter": "python",
   "pygments_lexer": "ipython3",
   "version": "3.10.9"
  }
 },
 "nbformat": 4,
 "nbformat_minor": 5
}
